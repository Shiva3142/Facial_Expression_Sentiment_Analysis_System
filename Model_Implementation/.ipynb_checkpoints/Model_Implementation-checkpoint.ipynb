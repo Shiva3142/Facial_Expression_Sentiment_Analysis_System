{
 "cells": [
  {
   "cell_type": "markdown",
   "id": "23e75737",
   "metadata": {},
   "source": [
    "## Imports"
   ]
  },
  {
   "cell_type": "code",
   "execution_count": 1,
   "id": "f938ec25",
   "metadata": {
    "ExecuteTime": {
     "end_time": "2023-01-02T05:54:27.875874Z",
     "start_time": "2023-01-02T05:54:27.797712Z"
    }
   },
   "outputs": [],
   "source": [
    "import tensorflow\n",
    "import numpy\n",
    "from matplotlib import pyplot\n",
    "import cv2\n",
    "import os\n",
    "import pickle\n",
    "import keras\n",
    "from sklearn.metrics import confusion_matrix,classification_report\n",
    "from keras.utils.vis_utils import plot_model\n",
    "import seaborn"
   ]
  },
  {
   "cell_type": "code",
   "execution_count": 2,
   "id": "945e7e40",
   "metadata": {
    "ExecuteTime": {
     "end_time": "2023-01-02T05:54:28.775755Z",
     "start_time": "2023-01-02T05:54:28.721264Z"
    }
   },
   "outputs": [
    {
     "name": "stdout",
     "output_type": "stream",
     "text": [
      "Number of GPUs Available:  0\n"
     ]
    }
   ],
   "source": [
    "print(\"Number of GPUs Available: \", len(tensorflow.config.list_physical_devices('GPU')))"
   ]
  },
  {
   "cell_type": "markdown",
   "id": "a507d326",
   "metadata": {},
   "source": [
    "## Configurations"
   ]
  },
  {
   "cell_type": "code",
   "execution_count": 3,
   "id": "52e7e0f5",
   "metadata": {
    "ExecuteTime": {
     "end_time": "2023-01-02T05:54:31.966035Z",
     "start_time": "2023-01-02T05:54:31.833268Z"
    }
   },
   "outputs": [],
   "source": [
    "# %matplotlib qt;\n",
    "%matplotlib inline\n",
    "pyplot.rcParams[\"figure.figsize\"] = (5, 3)"
   ]
  },
  {
   "cell_type": "code",
   "execution_count": 4,
   "id": "3e308c04",
   "metadata": {
    "ExecuteTime": {
     "end_time": "2023-01-02T05:54:32.329389Z",
     "start_time": "2023-01-02T05:54:32.315390Z"
    }
   },
   "outputs": [],
   "source": [
    "Training_Data_Path=\"../Data/Main_Data/Training_Data/\"\n",
    "Testing_Data_Path=\"../Data/Main_Data/Testing_Data/\""
   ]
  },
  {
   "cell_type": "code",
   "execution_count": 5,
   "id": "9320dfe7",
   "metadata": {
    "ExecuteTime": {
     "end_time": "2023-01-02T05:54:32.735686Z",
     "start_time": "2023-01-02T05:54:32.711136Z"
    }
   },
   "outputs": [],
   "source": [
    "class_list=os.listdir(Training_Data_Path)"
   ]
  },
  {
   "cell_type": "code",
   "execution_count": 6,
   "id": "80071e3a",
   "metadata": {
    "ExecuteTime": {
     "end_time": "2023-01-02T05:54:35.146092Z",
     "start_time": "2023-01-02T05:54:35.126085Z"
    }
   },
   "outputs": [
    {
     "data": {
      "text/plain": [
       "['anger', 'disgust', 'fear', 'happy', 'sad', 'surprise']"
      ]
     },
     "execution_count": 6,
     "metadata": {},
     "output_type": "execute_result"
    }
   ],
   "source": [
    "class_list"
   ]
  },
  {
   "cell_type": "code",
   "execution_count": 7,
   "id": "01ea5467",
   "metadata": {
    "ExecuteTime": {
     "end_time": "2023-01-02T05:54:36.877956Z",
     "start_time": "2023-01-02T05:54:36.862000Z"
    }
   },
   "outputs": [],
   "source": [
    "Object_Data_Path=\"../Data/Preprocessed_Data/\""
   ]
  },
  {
   "cell_type": "code",
   "execution_count": 8,
   "id": "a958ed8c",
   "metadata": {
    "ExecuteTime": {
     "end_time": "2023-01-02T05:55:49.289626Z",
     "start_time": "2023-01-02T05:55:31.257611Z"
    }
   },
   "outputs": [],
   "source": [
    "pickle_training_features=open(Object_Data_Path+\"pickle_training_features_for_transfer_learning.pickle\",\"rb\")\n",
    "Training_Features=pickle.load(pickle_training_features)\n",
    "pickle_training_features.close()\n",
    "pickle_training_labels=open(Object_Data_Path+\"pickle_training_labels_for_transfer_learning.pickle\",\"rb\")\n",
    "Training_Label=pickle.load(pickle_training_labels)\n",
    "pickle_training_labels.close()"
   ]
  },
  {
   "cell_type": "code",
   "execution_count": 9,
   "id": "9c9701fa",
   "metadata": {
    "ExecuteTime": {
     "end_time": "2023-01-02T05:55:53.501856Z",
     "start_time": "2023-01-02T05:55:49.362173Z"
    }
   },
   "outputs": [],
   "source": [
    "pickle_testing_features=open(Object_Data_Path+\"pickle_testing_features_for_transfer_learning.pickle\",\"rb\")\n",
    "Testing_Features=pickle.load(pickle_testing_features)\n",
    "pickle_testing_features.close()\n",
    "pickle_testing_labels=open(Object_Data_Path+\"pickle_testing_labels_for_transfer_learning.pickle\",\"rb\")\n",
    "Testing_Label=pickle.load(pickle_testing_labels)\n",
    "pickle_testing_labels.close()"
   ]
  },
  {
   "cell_type": "code",
   "execution_count": 10,
   "id": "642584c1",
   "metadata": {
    "ExecuteTime": {
     "end_time": "2023-01-02T05:54:52.310652Z",
     "start_time": "2023-01-02T05:54:52.294679Z"
    }
   },
   "outputs": [
    {
     "data": {
      "text/plain": [
       "(12000, 224, 224, 3)"
      ]
     },
     "execution_count": 10,
     "metadata": {},
     "output_type": "execute_result"
    }
   ],
   "source": [
    "Training_Features.shape"
   ]
  },
  {
   "cell_type": "code",
   "execution_count": 11,
   "id": "a66567f9",
   "metadata": {
    "ExecuteTime": {
     "end_time": "2023-01-02T05:54:53.529135Z",
     "start_time": "2023-01-02T05:54:53.452238Z"
    }
   },
   "outputs": [
    {
     "data": {
      "text/plain": [
       "array([[[21, 19,  9],\n",
       "        [23, 24, 19],\n",
       "        [20, 23, 22],\n",
       "        ...,\n",
       "        [42, 25, 22],\n",
       "        [41, 23, 19],\n",
       "        [44, 24, 19]],\n",
       "\n",
       "       [[15, 13,  5],\n",
       "        [21, 23, 17],\n",
       "        [14, 20, 15],\n",
       "        ...,\n",
       "        [40, 23, 20],\n",
       "        [41, 22, 19],\n",
       "        [47, 26, 24]],\n",
       "\n",
       "       [[17, 17,  8],\n",
       "        [17, 19, 15],\n",
       "        [10, 16, 11],\n",
       "        ...,\n",
       "        [44, 27, 24],\n",
       "        [41, 22, 19],\n",
       "        [47, 26, 24]],\n",
       "\n",
       "       ...,\n",
       "\n",
       "       [[ 9, 11, 29],\n",
       "        [ 4,  6, 24],\n",
       "        [ 4,  6, 24],\n",
       "        ...,\n",
       "        [54, 29, 13],\n",
       "        [51, 27, 12],\n",
       "        [51, 25, 13]],\n",
       "\n",
       "       [[ 6,  8, 26],\n",
       "        [ 6,  8, 26],\n",
       "        [10, 11, 29],\n",
       "        ...,\n",
       "        [59, 34, 15],\n",
       "        [51, 26,  9],\n",
       "        [52, 25, 11]],\n",
       "\n",
       "       [[12, 14, 33],\n",
       "        [ 9, 11, 29],\n",
       "        [ 5,  7, 25],\n",
       "        ...,\n",
       "        [63, 36, 15],\n",
       "        [53, 27,  9],\n",
       "        [54, 28, 12]]], dtype=uint8)"
      ]
     },
     "execution_count": 11,
     "metadata": {},
     "output_type": "execute_result"
    }
   ],
   "source": [
    "Training_Features[0]"
   ]
  },
  {
   "cell_type": "code",
   "execution_count": 12,
   "id": "75699739",
   "metadata": {
    "ExecuteTime": {
     "end_time": "2023-01-02T05:54:56.255230Z",
     "start_time": "2023-01-02T05:54:54.577133Z"
    }
   },
   "outputs": [
    {
     "data": {
      "text/plain": [
       "<matplotlib.image.AxesImage at 0x275fe2e4460>"
      ]
     },
     "execution_count": 12,
     "metadata": {},
     "output_type": "execute_result"
    },
    {
     "data": {
      "image/png": "[encoded data removed]",
      "text/plain": [
       "<Figure size 500x300 with 1 Axes>"
      ]
     },
     "metadata": {},
     "output_type": "display_data"
    }
   ],
   "source": [
    "pyplot.imshow(Training_Features[0])"
   ]
  },
  {
   "cell_type": "code",
   "execution_count": 13,
   "id": "aace4fef",
   "metadata": {
    "ExecuteTime": {
     "end_time": "2023-01-02T05:54:56.270391Z",
     "start_time": "2023-01-02T05:54:56.264390Z"
    }
   },
   "outputs": [
    {
     "data": {
      "text/plain": [
       "5"
      ]
     },
     "execution_count": 13,
     "metadata": {},
     "output_type": "execute_result"
    }
   ],
   "source": [
    "Training_Label[0]"
   ]
  },
  {
   "cell_type": "code",
   "execution_count": 14,
   "id": "e8ff91d2",
   "metadata": {
    "ExecuteTime": {
     "end_time": "2023-01-02T05:54:59.994363Z",
     "start_time": "2023-01-02T05:54:59.987335Z"
    }
   },
   "outputs": [
    {
     "data": {
      "text/plain": [
       "'surprise'"
      ]
     },
     "execution_count": 14,
     "metadata": {},
     "output_type": "execute_result"
    }
   ],
   "source": [
    "class_list[Training_Label[0]]"
   ]
  },
  {
   "cell_type": "code",
   "execution_count": 15,
   "id": "b925b55b",
   "metadata": {
    "ExecuteTime": {
     "end_time": "2023-01-02T05:55:01.877204Z",
     "start_time": "2023-01-02T05:55:01.869202Z"
    }
   },
   "outputs": [
    {
     "data": {
      "text/plain": [
       "(3000, 224, 224, 3)"
      ]
     },
     "execution_count": 15,
     "metadata": {},
     "output_type": "execute_result"
    }
   ],
   "source": [
    "Testing_Features.shape"
   ]
  },
  {
   "cell_type": "code",
   "execution_count": 16,
   "id": "d264a065",
   "metadata": {
    "ExecuteTime": {
     "end_time": "2023-01-02T05:55:02.947991Z",
     "start_time": "2023-01-02T05:55:02.933481Z"
    }
   },
   "outputs": [
    {
     "data": {
      "text/plain": [
       "array([[[26, 32, 27],\n",
       "        [32, 37, 32],\n",
       "        [41, 45, 40],\n",
       "        ...,\n",
       "        [ 8,  8,  8],\n",
       "        [ 9,  9,  9],\n",
       "        [ 9,  9,  9]],\n",
       "\n",
       "       [[23, 29, 24],\n",
       "        [29, 34, 29],\n",
       "        [38, 43, 38],\n",
       "        ...,\n",
       "        [ 8,  8,  8],\n",
       "        [ 8,  8,  8],\n",
       "        [ 8,  8,  8]],\n",
       "\n",
       "       [[18, 24, 19],\n",
       "        [25, 30, 25],\n",
       "        [34, 38, 33],\n",
       "        ...,\n",
       "        [ 9,  9,  9],\n",
       "        [ 8,  8,  8],\n",
       "        [ 7,  7,  7]],\n",
       "\n",
       "       ...,\n",
       "\n",
       "       [[43, 43, 43],\n",
       "        [40, 40, 40],\n",
       "        [35, 35, 35],\n",
       "        ...,\n",
       "        [12, 12, 12],\n",
       "        [12, 12, 12],\n",
       "        [12, 12, 12]],\n",
       "\n",
       "       [[41, 41, 41],\n",
       "        [38, 38, 38],\n",
       "        [34, 34, 34],\n",
       "        ...,\n",
       "        [14, 14, 14],\n",
       "        [14, 14, 14],\n",
       "        [14, 14, 14]],\n",
       "\n",
       "       [[40, 40, 40],\n",
       "        [37, 37, 37],\n",
       "        [33, 33, 33],\n",
       "        ...,\n",
       "        [16, 16, 16],\n",
       "        [16, 16, 16],\n",
       "        [16, 16, 16]]], dtype=uint8)"
      ]
     },
     "execution_count": 16,
     "metadata": {},
     "output_type": "execute_result"
    }
   ],
   "source": [
    "Testing_Features[0]"
   ]
  },
  {
   "cell_type": "code",
   "execution_count": 17,
   "id": "74a51352",
   "metadata": {
    "ExecuteTime": {
     "end_time": "2023-01-02T05:55:03.907638Z",
     "start_time": "2023-01-02T05:55:03.682662Z"
    }
   },
   "outputs": [
    {
     "data": {
      "text/plain": [
       "<matplotlib.image.AxesImage at 0x2766beb4190>"
      ]
     },
     "execution_count": 17,
     "metadata": {},
     "output_type": "execute_result"
    },
    {
     "data": {
      "image/png": "[encoded data removed]",
      "text/plain": [
       "<Figure size 500x300 with 1 Axes>"
      ]
     },
     "metadata": {},
     "output_type": "display_data"
    }
   ],
   "source": [
    "pyplot.imshow(Testing_Features[0])"
   ]
  },
  {
   "cell_type": "code",
   "execution_count": 18,
   "id": "e6c4473e",
   "metadata": {
    "ExecuteTime": {
     "end_time": "2023-01-02T05:55:04.615496Z",
     "start_time": "2023-01-02T05:55:04.603512Z"
    }
   },
   "outputs": [
    {
     "data": {
      "text/plain": [
       "0"
      ]
     },
     "execution_count": 18,
     "metadata": {},
     "output_type": "execute_result"
    }
   ],
   "source": [
    "Testing_Label[0]"
   ]
  },
  {
   "cell_type": "code",
   "execution_count": 19,
   "id": "eccf39cc",
   "metadata": {
    "ExecuteTime": {
     "end_time": "2023-01-02T05:55:08.790223Z",
     "start_time": "2023-01-02T05:55:08.779846Z"
    }
   },
   "outputs": [
    {
     "data": {
      "text/plain": [
       "'anger'"
      ]
     },
     "execution_count": 19,
     "metadata": {},
     "output_type": "execute_result"
    }
   ],
   "source": [
    "class_list[Testing_Label[0]]"
   ]
  },
  {
   "cell_type": "markdown",
   "id": "54cd6724",
   "metadata": {},
   "source": [
    "## Praparing Data for Training"
   ]
  },
  {
   "cell_type": "code",
   "execution_count": 20,
   "id": "a3aff21a",
   "metadata": {
    "ExecuteTime": {
     "end_time": "2023-01-02T06:08:57.663983Z",
     "start_time": "2023-01-02T06:08:57.650967Z"
    }
   },
   "outputs": [
    {
     "data": {
      "text/plain": [
       "(12000, 224, 224, 3)"
      ]
     },
     "execution_count": 20,
     "metadata": {},
     "output_type": "execute_result"
    }
   ],
   "source": [
    "Training_Features.shape"
   ]
  },
  {
   "cell_type": "code",
   "execution_count": 21,
   "id": "95bdd254",
   "metadata": {
    "ExecuteTime": {
     "end_time": "2023-01-02T06:08:58.545865Z",
     "start_time": "2023-01-02T06:08:58.536813Z"
    }
   },
   "outputs": [
    {
     "data": {
      "text/plain": [
       "(3000, 224, 224, 3)"
      ]
     },
     "execution_count": 21,
     "metadata": {},
     "output_type": "execute_result"
    }
   ],
   "source": [
    "Testing_Features.shape"
   ]
  },
  {
   "cell_type": "code",
   "execution_count": 22,
   "id": "a4dab3f5",
   "metadata": {
    "ExecuteTime": {
     "end_time": "2023-01-02T06:19:16.355953Z",
     "start_time": "2023-01-02T06:19:16.346262Z"
    }
   },
   "outputs": [],
   "source": [
    "input_dimension=Training_Features[0].shape"
   ]
  },
  {
   "cell_type": "code",
   "execution_count": 23,
   "id": "fa7044d7",
   "metadata": {
    "ExecuteTime": {
     "end_time": "2023-01-02T06:19:16.779707Z",
     "start_time": "2023-01-02T06:19:16.771707Z"
    }
   },
   "outputs": [
    {
     "data": {
      "text/plain": [
       "(224, 224, 3)"
      ]
     },
     "execution_count": 23,
     "metadata": {},
     "output_type": "execute_result"
    }
   ],
   "source": [
    "input_dimension"
   ]
  },
  {
   "cell_type": "markdown",
   "id": "ab2f7889",
   "metadata": {},
   "source": [
    "# Model Definition"
   ]
  },
  {
   "cell_type": "code",
   "execution_count": 24,
   "id": "82b09bef",
   "metadata": {
    "ExecuteTime": {
     "end_time": "2023-01-02T07:04:48.741726Z",
     "start_time": "2023-01-02T07:04:47.818038Z"
    }
   },
   "outputs": [],
   "source": [
    "Model=keras.applications.MobileNetV2()"
   ]
  },
  {
   "cell_type": "code",
   "execution_count": 25,
   "id": "4f81ecee",
   "metadata": {
    "ExecuteTime": {
     "end_time": "2023-01-02T07:04:50.738395Z",
     "start_time": "2023-01-02T07:04:50.406396Z"
    },
    "scrolled": true
   },
   "outputs": [
    {
     "name": "stdout",
     "output_type": "stream",
     "text": [
      "Model: \"mobilenetv2_1.00_224\"\n",
      "__________________________________________________________________________________________________\n",
      " Layer (type)                   Output Shape         Param #     Connected to                     \n",
      "==================================================================================================\n",
      " input_1 (InputLayer)           [(None, 224, 224, 3  0           []                               \n",
      "                                )]                                                                \n",
      "                                                                                                  \n",
      " Conv1 (Conv2D)                 (None, 112, 112, 32  864         ['input_1[0][0]']                \n",
      "                                )                                                                 \n",
      "                                                                                                  \n",
      " bn_Conv1 (BatchNormalization)  (None, 112, 112, 32  128         ['Conv1[0][0]']                  \n",
      "                                )                                                                 \n",
      "                                                                                                  \n",
      " Conv1_relu (ReLU)              (None, 112, 112, 32  0           ['bn_Conv1[0][0]']               \n",
      "                                )                                                                 \n",
      "                                                                                                  \n",
      " expanded_conv_depthwise (Depth  (None, 112, 112, 32  288        ['Conv1_relu[0][0]']             \n",
      " wiseConv2D)                    )                                                                 \n",
      "                                                                                                  \n",
      " expanded_conv_depthwise_BN (Ba  (None, 112, 112, 32  128        ['expanded_conv_depthwise[0][0]']\n",
      " tchNormalization)              )                                                                 \n",
      "                                                                                                  \n",
      " expanded_conv_depthwise_relu (  (None, 112, 112, 32  0          ['expanded_conv_depthwise_BN[0][0\n",
      " ReLU)                          )                                ]']                              \n",
      "                                                                                                  \n",
      " expanded_conv_project (Conv2D)  (None, 112, 112, 16  512        ['expanded_conv_depthwise_relu[0]\n",
      "                                )                                [0]']                            \n",
      "                                                                                                  \n",
      " expanded_conv_project_BN (Batc  (None, 112, 112, 16  64         ['expanded_conv_project[0][0]']  \n",
      " hNormalization)                )                                                                 \n",
      "                                                                                                  \n",
      " block_1_expand (Conv2D)        (None, 112, 112, 96  1536        ['expanded_conv_project_BN[0][0]'\n",
      "                                )                                ]                                \n",
      "                                                                                                  \n",
      " block_1_expand_BN (BatchNormal  (None, 112, 112, 96  384        ['block_1_expand[0][0]']         \n",
      " ization)                       )                                                                 \n",
      "                                                                                                  \n",
      " block_1_expand_relu (ReLU)     (None, 112, 112, 96  0           ['block_1_expand_BN[0][0]']      \n",
      "                                )                                                                 \n",
      "                                                                                                  \n",
      " block_1_pad (ZeroPadding2D)    (None, 113, 113, 96  0           ['block_1_expand_relu[0][0]']    \n",
      "                                )                                                                 \n",
      "                                                                                                  \n",
      " block_1_depthwise (DepthwiseCo  (None, 56, 56, 96)  864         ['block_1_pad[0][0]']            \n",
      " nv2D)                                                                                            \n",
      "                                                                                                  \n",
      " block_1_depthwise_BN (BatchNor  (None, 56, 56, 96)  384         ['block_1_depthwise[0][0]']      \n",
      " malization)                                                                                      \n",
      "                                                                                                  \n",
      " block_1_depthwise_relu (ReLU)  (None, 56, 56, 96)   0           ['block_1_depthwise_BN[0][0]']   \n",
      "                                                                                                  \n",
      " block_1_project (Conv2D)       (None, 56, 56, 24)   2304        ['block_1_depthwise_relu[0][0]'] \n",
      "                                                                                                  \n",
      " block_1_project_BN (BatchNorma  (None, 56, 56, 24)  96          ['block_1_project[0][0]']        \n",
      " lization)                                                                                        \n",
      "                                                                                                  \n",
      " block_2_expand (Conv2D)        (None, 56, 56, 144)  3456        ['block_1_project_BN[0][0]']     \n",
      "                                                                                                  \n",
      " block_2_expand_BN (BatchNormal  (None, 56, 56, 144)  576        ['block_2_expand[0][0]']         \n",
      " ization)                                                                                         \n",
      "                                                                                                  \n",
      " block_2_expand_relu (ReLU)     (None, 56, 56, 144)  0           ['block_2_expand_BN[0][0]']      \n",
      "                                                                                                  \n",
      " block_2_depthwise (DepthwiseCo  (None, 56, 56, 144)  1296       ['block_2_expand_relu[0][0]']    \n",
      " nv2D)                                                                                            \n",
      "                                                                                                  \n",
      " block_2_depthwise_BN (BatchNor  (None, 56, 56, 144)  576        ['block_2_depthwise[0][0]']      \n",
      " malization)                                                                                      \n",
      "                                                                                                  \n",
      " block_2_depthwise_relu (ReLU)  (None, 56, 56, 144)  0           ['block_2_depthwise_BN[0][0]']   \n",
      "                                                                                                  \n",
      " block_2_project (Conv2D)       (None, 56, 56, 24)   3456        ['block_2_depthwise_relu[0][0]'] \n",
      "                                                                                                  \n",
      " block_2_project_BN (BatchNorma  (None, 56, 56, 24)  96          ['block_2_project[0][0]']        \n",
      " lization)                                                                                        \n",
      "                                                                                                  \n",
      " block_2_add (Add)              (None, 56, 56, 24)   0           ['block_1_project_BN[0][0]',     \n",
      "                                                                  'block_2_project_BN[0][0]']     \n",
      "                                                                                                  \n",
      " block_3_expand (Conv2D)        (None, 56, 56, 144)  3456        ['block_2_add[0][0]']            \n",
      "                                                                                                  \n",
      " block_3_expand_BN (BatchNormal  (None, 56, 56, 144)  576        ['block_3_expand[0][0]']         \n",
      " ization)                                                                                         \n",
      "                                                                                                  \n"
     ]
    },
    {
     "name": "stdout",
     "output_type": "stream",
     "text": [
      " block_3_expand_relu (ReLU)     (None, 56, 56, 144)  0           ['block_3_expand_BN[0][0]']      \n",
      "                                                                                                  \n",
      " block_3_pad (ZeroPadding2D)    (None, 57, 57, 144)  0           ['block_3_expand_relu[0][0]']    \n",
      "                                                                                                  \n",
      " block_3_depthwise (DepthwiseCo  (None, 28, 28, 144)  1296       ['block_3_pad[0][0]']            \n",
      " nv2D)                                                                                            \n",
      "                                                                                                  \n",
      " block_3_depthwise_BN (BatchNor  (None, 28, 28, 144)  576        ['block_3_depthwise[0][0]']      \n",
      " malization)                                                                                      \n",
      "                                                                                                  \n",
      " block_3_depthwise_relu (ReLU)  (None, 28, 28, 144)  0           ['block_3_depthwise_BN[0][0]']   \n",
      "                                                                                                  \n",
      " block_3_project (Conv2D)       (None, 28, 28, 32)   4608        ['block_3_depthwise_relu[0][0]'] \n",
      "                                                                                                  \n",
      " block_3_project_BN (BatchNorma  (None, 28, 28, 32)  128         ['block_3_project[0][0]']        \n",
      " lization)                                                                                        \n",
      "                                                                                                  \n",
      " block_4_expand (Conv2D)        (None, 28, 28, 192)  6144        ['block_3_project_BN[0][0]']     \n",
      "                                                                                                  \n",
      " block_4_expand_BN (BatchNormal  (None, 28, 28, 192)  768        ['block_4_expand[0][0]']         \n",
      " ization)                                                                                         \n",
      "                                                                                                  \n",
      " block_4_expand_relu (ReLU)     (None, 28, 28, 192)  0           ['block_4_expand_BN[0][0]']      \n",
      "                                                                                                  \n",
      " block_4_depthwise (DepthwiseCo  (None, 28, 28, 192)  1728       ['block_4_expand_relu[0][0]']    \n",
      " nv2D)                                                                                            \n",
      "                                                                                                  \n",
      " block_4_depthwise_BN (BatchNor  (None, 28, 28, 192)  768        ['block_4_depthwise[0][0]']      \n",
      " malization)                                                                                      \n",
      "                                                                                                  \n",
      " block_4_depthwise_relu (ReLU)  (None, 28, 28, 192)  0           ['block_4_depthwise_BN[0][0]']   \n",
      "                                                                                                  \n",
      " block_4_project (Conv2D)       (None, 28, 28, 32)   6144        ['block_4_depthwise_relu[0][0]'] \n",
      "                                                                                                  \n",
      " block_4_project_BN (BatchNorma  (None, 28, 28, 32)  128         ['block_4_project[0][0]']        \n",
      " lization)                                                                                        \n",
      "                                                                                                  \n",
      " block_4_add (Add)              (None, 28, 28, 32)   0           ['block_3_project_BN[0][0]',     \n",
      "                                                                  'block_4_project_BN[0][0]']     \n",
      "                                                                                                  \n",
      " block_5_expand (Conv2D)        (None, 28, 28, 192)  6144        ['block_4_add[0][0]']            \n",
      "                                                                                                  \n",
      " block_5_expand_BN (BatchNormal  (None, 28, 28, 192)  768        ['block_5_expand[0][0]']         \n",
      " ization)                                                                                         \n",
      "                                                                                                  \n",
      " block_5_expand_relu (ReLU)     (None, 28, 28, 192)  0           ['block_5_expand_BN[0][0]']      \n",
      "                                                                                                  \n",
      " block_5_depthwise (DepthwiseCo  (None, 28, 28, 192)  1728       ['block_5_expand_relu[0][0]']    \n",
      " nv2D)                                                                                            \n",
      "                                                                                                  \n",
      " block_5_depthwise_BN (BatchNor  (None, 28, 28, 192)  768        ['block_5_depthwise[0][0]']      \n",
      " malization)                                                                                      \n",
      "                                                                                                  \n",
      " block_5_depthwise_relu (ReLU)  (None, 28, 28, 192)  0           ['block_5_depthwise_BN[0][0]']   \n",
      "                                                                                                  \n",
      " block_5_project (Conv2D)       (None, 28, 28, 32)   6144        ['block_5_depthwise_relu[0][0]'] \n",
      "                                                                                                  \n",
      " block_5_project_BN (BatchNorma  (None, 28, 28, 32)  128         ['block_5_project[0][0]']        \n",
      " lization)                                                                                        \n",
      "                                                                                                  \n",
      " block_5_add (Add)              (None, 28, 28, 32)   0           ['block_4_add[0][0]',            \n",
      "                                                                  'block_5_project_BN[0][0]']     \n",
      "                                                                                                  \n",
      " block_6_expand (Conv2D)        (None, 28, 28, 192)  6144        ['block_5_add[0][0]']            \n",
      "                                                                                                  \n",
      " block_6_expand_BN (BatchNormal  (None, 28, 28, 192)  768        ['block_6_expand[0][0]']         \n",
      " ization)                                                                                         \n",
      "                                                                                                  \n",
      " block_6_expand_relu (ReLU)     (None, 28, 28, 192)  0           ['block_6_expand_BN[0][0]']      \n",
      "                                                                                                  \n",
      " block_6_pad (ZeroPadding2D)    (None, 29, 29, 192)  0           ['block_6_expand_relu[0][0]']    \n",
      "                                                                                                  \n",
      " block_6_depthwise (DepthwiseCo  (None, 14, 14, 192)  1728       ['block_6_pad[0][0]']            \n",
      " nv2D)                                                                                            \n",
      "                                                                                                  \n",
      " block_6_depthwise_BN (BatchNor  (None, 14, 14, 192)  768        ['block_6_depthwise[0][0]']      \n",
      " malization)                                                                                      \n",
      "                                                                                                  \n",
      " block_6_depthwise_relu (ReLU)  (None, 14, 14, 192)  0           ['block_6_depthwise_BN[0][0]']   \n",
      "                                                                                                  \n",
      " block_6_project (Conv2D)       (None, 14, 14, 64)   12288       ['block_6_depthwise_relu[0][0]'] \n",
      "                                                                                                  \n",
      " block_6_project_BN (BatchNorma  (None, 14, 14, 64)  256         ['block_6_project[0][0]']        \n"
     ]
    },
    {
     "name": "stdout",
     "output_type": "stream",
     "text": [
      " lization)                                                                                        \n",
      "                                                                                                  \n",
      " block_7_expand (Conv2D)        (None, 14, 14, 384)  24576       ['block_6_project_BN[0][0]']     \n",
      "                                                                                                  \n",
      " block_7_expand_BN (BatchNormal  (None, 14, 14, 384)  1536       ['block_7_expand[0][0]']         \n",
      " ization)                                                                                         \n",
      "                                                                                                  \n",
      " block_7_expand_relu (ReLU)     (None, 14, 14, 384)  0           ['block_7_expand_BN[0][0]']      \n",
      "                                                                                                  \n",
      " block_7_depthwise (DepthwiseCo  (None, 14, 14, 384)  3456       ['block_7_expand_relu[0][0]']    \n",
      " nv2D)                                                                                            \n",
      "                                                                                                  \n",
      " block_7_depthwise_BN (BatchNor  (None, 14, 14, 384)  1536       ['block_7_depthwise[0][0]']      \n",
      " malization)                                                                                      \n",
      "                                                                                                  \n",
      " block_7_depthwise_relu (ReLU)  (None, 14, 14, 384)  0           ['block_7_depthwise_BN[0][0]']   \n",
      "                                                                                                  \n",
      " block_7_project (Conv2D)       (None, 14, 14, 64)   24576       ['block_7_depthwise_relu[0][0]'] \n",
      "                                                                                                  \n",
      " block_7_project_BN (BatchNorma  (None, 14, 14, 64)  256         ['block_7_project[0][0]']        \n",
      " lization)                                                                                        \n",
      "                                                                                                  \n",
      " block_7_add (Add)              (None, 14, 14, 64)   0           ['block_6_project_BN[0][0]',     \n",
      "                                                                  'block_7_project_BN[0][0]']     \n",
      "                                                                                                  \n",
      " block_8_expand (Conv2D)        (None, 14, 14, 384)  24576       ['block_7_add[0][0]']            \n",
      "                                                                                                  \n",
      " block_8_expand_BN (BatchNormal  (None, 14, 14, 384)  1536       ['block_8_expand[0][0]']         \n",
      " ization)                                                                                         \n",
      "                                                                                                  \n",
      " block_8_expand_relu (ReLU)     (None, 14, 14, 384)  0           ['block_8_expand_BN[0][0]']      \n",
      "                                                                                                  \n",
      " block_8_depthwise (DepthwiseCo  (None, 14, 14, 384)  3456       ['block_8_expand_relu[0][0]']    \n",
      " nv2D)                                                                                            \n",
      "                                                                                                  \n",
      " block_8_depthwise_BN (BatchNor  (None, 14, 14, 384)  1536       ['block_8_depthwise[0][0]']      \n",
      " malization)                                                                                      \n",
      "                                                                                                  \n",
      " block_8_depthwise_relu (ReLU)  (None, 14, 14, 384)  0           ['block_8_depthwise_BN[0][0]']   \n",
      "                                                                                                  \n",
      " block_8_project (Conv2D)       (None, 14, 14, 64)   24576       ['block_8_depthwise_relu[0][0]'] \n",
      "                                                                                                  \n",
      " block_8_project_BN (BatchNorma  (None, 14, 14, 64)  256         ['block_8_project[0][0]']        \n",
      " lization)                                                                                        \n",
      "                                                                                                  \n",
      " block_8_add (Add)              (None, 14, 14, 64)   0           ['block_7_add[0][0]',            \n",
      "                                                                  'block_8_project_BN[0][0]']     \n",
      "                                                                                                  \n",
      " block_9_expand (Conv2D)        (None, 14, 14, 384)  24576       ['block_8_add[0][0]']            \n",
      "                                                                                                  \n",
      " block_9_expand_BN (BatchNormal  (None, 14, 14, 384)  1536       ['block_9_expand[0][0]']         \n",
      " ization)                                                                                         \n",
      "                                                                                                  \n",
      " block_9_expand_relu (ReLU)     (None, 14, 14, 384)  0           ['block_9_expand_BN[0][0]']      \n",
      "                                                                                                  \n",
      " block_9_depthwise (DepthwiseCo  (None, 14, 14, 384)  3456       ['block_9_expand_relu[0][0]']    \n",
      " nv2D)                                                                                            \n",
      "                                                                                                  \n",
      " block_9_depthwise_BN (BatchNor  (None, 14, 14, 384)  1536       ['block_9_depthwise[0][0]']      \n",
      " malization)                                                                                      \n",
      "                                                                                                  \n",
      " block_9_depthwise_relu (ReLU)  (None, 14, 14, 384)  0           ['block_9_depthwise_BN[0][0]']   \n",
      "                                                                                                  \n",
      " block_9_project (Conv2D)       (None, 14, 14, 64)   24576       ['block_9_depthwise_relu[0][0]'] \n",
      "                                                                                                  \n",
      " block_9_project_BN (BatchNorma  (None, 14, 14, 64)  256         ['block_9_project[0][0]']        \n",
      " lization)                                                                                        \n",
      "                                                                                                  \n",
      " block_9_add (Add)              (None, 14, 14, 64)   0           ['block_8_add[0][0]',            \n",
      "                                                                  'block_9_project_BN[0][0]']     \n",
      "                                                                                                  \n",
      " block_10_expand (Conv2D)       (None, 14, 14, 384)  24576       ['block_9_add[0][0]']            \n",
      "                                                                                                  \n",
      " block_10_expand_BN (BatchNorma  (None, 14, 14, 384)  1536       ['block_10_expand[0][0]']        \n",
      " lization)                                                                                        \n",
      "                                                                                                  \n",
      " block_10_expand_relu (ReLU)    (None, 14, 14, 384)  0           ['block_10_expand_BN[0][0]']     \n",
      "                                                                                                  \n",
      " block_10_depthwise (DepthwiseC  (None, 14, 14, 384)  3456       ['block_10_expand_relu[0][0]']   \n",
      " onv2D)                                                                                           \n",
      "                                                                                                  \n",
      " block_10_depthwise_BN (BatchNo  (None, 14, 14, 384)  1536       ['block_10_depthwise[0][0]']     \n",
      " rmalization)                                                                                     \n"
     ]
    },
    {
     "name": "stdout",
     "output_type": "stream",
     "text": [
      "                                                                                                  \n",
      " block_10_depthwise_relu (ReLU)  (None, 14, 14, 384)  0          ['block_10_depthwise_BN[0][0]']  \n",
      "                                                                                                  \n",
      " block_10_project (Conv2D)      (None, 14, 14, 96)   36864       ['block_10_depthwise_relu[0][0]']\n",
      "                                                                                                  \n",
      " block_10_project_BN (BatchNorm  (None, 14, 14, 96)  384         ['block_10_project[0][0]']       \n",
      " alization)                                                                                       \n",
      "                                                                                                  \n",
      " block_11_expand (Conv2D)       (None, 14, 14, 576)  55296       ['block_10_project_BN[0][0]']    \n",
      "                                                                                                  \n",
      " block_11_expand_BN (BatchNorma  (None, 14, 14, 576)  2304       ['block_11_expand[0][0]']        \n",
      " lization)                                                                                        \n",
      "                                                                                                  \n",
      " block_11_expand_relu (ReLU)    (None, 14, 14, 576)  0           ['block_11_expand_BN[0][0]']     \n",
      "                                                                                                  \n",
      " block_11_depthwise (DepthwiseC  (None, 14, 14, 576)  5184       ['block_11_expand_relu[0][0]']   \n",
      " onv2D)                                                                                           \n",
      "                                                                                                  \n",
      " block_11_depthwise_BN (BatchNo  (None, 14, 14, 576)  2304       ['block_11_depthwise[0][0]']     \n",
      " rmalization)                                                                                     \n",
      "                                                                                                  \n",
      " block_11_depthwise_relu (ReLU)  (None, 14, 14, 576)  0          ['block_11_depthwise_BN[0][0]']  \n",
      "                                                                                                  \n",
      " block_11_project (Conv2D)      (None, 14, 14, 96)   55296       ['block_11_depthwise_relu[0][0]']\n",
      "                                                                                                  \n",
      " block_11_project_BN (BatchNorm  (None, 14, 14, 96)  384         ['block_11_project[0][0]']       \n",
      " alization)                                                                                       \n",
      "                                                                                                  \n",
      " block_11_add (Add)             (None, 14, 14, 96)   0           ['block_10_project_BN[0][0]',    \n",
      "                                                                  'block_11_project_BN[0][0]']    \n",
      "                                                                                                  \n",
      " block_12_expand (Conv2D)       (None, 14, 14, 576)  55296       ['block_11_add[0][0]']           \n",
      "                                                                                                  \n",
      " block_12_expand_BN (BatchNorma  (None, 14, 14, 576)  2304       ['block_12_expand[0][0]']        \n",
      " lization)                                                                                        \n",
      "                                                                                                  \n",
      " block_12_expand_relu (ReLU)    (None, 14, 14, 576)  0           ['block_12_expand_BN[0][0]']     \n",
      "                                                                                                  \n",
      " block_12_depthwise (DepthwiseC  (None, 14, 14, 576)  5184       ['block_12_expand_relu[0][0]']   \n",
      " onv2D)                                                                                           \n",
      "                                                                                                  \n",
      " block_12_depthwise_BN (BatchNo  (None, 14, 14, 576)  2304       ['block_12_depthwise[0][0]']     \n",
      " rmalization)                                                                                     \n",
      "                                                                                                  \n",
      " block_12_depthwise_relu (ReLU)  (None, 14, 14, 576)  0          ['block_12_depthwise_BN[0][0]']  \n",
      "                                                                                                  \n",
      " block_12_project (Conv2D)      (None, 14, 14, 96)   55296       ['block_12_depthwise_relu[0][0]']\n",
      "                                                                                                  \n",
      " block_12_project_BN (BatchNorm  (None, 14, 14, 96)  384         ['block_12_project[0][0]']       \n",
      " alization)                                                                                       \n",
      "                                                                                                  \n",
      " block_12_add (Add)             (None, 14, 14, 96)   0           ['block_11_add[0][0]',           \n",
      "                                                                  'block_12_project_BN[0][0]']    \n",
      "                                                                                                  \n",
      " block_13_expand (Conv2D)       (None, 14, 14, 576)  55296       ['block_12_add[0][0]']           \n",
      "                                                                                                  \n",
      " block_13_expand_BN (BatchNorma  (None, 14, 14, 576)  2304       ['block_13_expand[0][0]']        \n",
      " lization)                                                                                        \n",
      "                                                                                                  \n",
      " block_13_expand_relu (ReLU)    (None, 14, 14, 576)  0           ['block_13_expand_BN[0][0]']     \n",
      "                                                                                                  \n",
      " block_13_pad (ZeroPadding2D)   (None, 15, 15, 576)  0           ['block_13_expand_relu[0][0]']   \n",
      "                                                                                                  \n",
      " block_13_depthwise (DepthwiseC  (None, 7, 7, 576)   5184        ['block_13_pad[0][0]']           \n",
      " onv2D)                                                                                           \n",
      "                                                                                                  \n",
      " block_13_depthwise_BN (BatchNo  (None, 7, 7, 576)   2304        ['block_13_depthwise[0][0]']     \n",
      " rmalization)                                                                                     \n",
      "                                                                                                  \n",
      " block_13_depthwise_relu (ReLU)  (None, 7, 7, 576)   0           ['block_13_depthwise_BN[0][0]']  \n",
      "                                                                                                  \n",
      " block_13_project (Conv2D)      (None, 7, 7, 160)    92160       ['block_13_depthwise_relu[0][0]']\n",
      "                                                                                                  \n",
      " block_13_project_BN (BatchNorm  (None, 7, 7, 160)   640         ['block_13_project[0][0]']       \n",
      " alization)                                                                                       \n",
      "                                                                                                  \n",
      " block_14_expand (Conv2D)       (None, 7, 7, 960)    153600      ['block_13_project_BN[0][0]']    \n",
      "                                                                                                  \n",
      " block_14_expand_BN (BatchNorma  (None, 7, 7, 960)   3840        ['block_14_expand[0][0]']        \n",
      " lization)                                                                                        \n",
      "                                                                                                  \n",
      " block_14_expand_relu (ReLU)    (None, 7, 7, 960)    0           ['block_14_expand_BN[0][0]']     \n",
      "                                                                                                  \n"
     ]
    },
    {
     "name": "stdout",
     "output_type": "stream",
     "text": [
      " block_14_depthwise (DepthwiseC  (None, 7, 7, 960)   8640        ['block_14_expand_relu[0][0]']   \n",
      " onv2D)                                                                                           \n",
      "                                                                                                  \n",
      " block_14_depthwise_BN (BatchNo  (None, 7, 7, 960)   3840        ['block_14_depthwise[0][0]']     \n",
      " rmalization)                                                                                     \n",
      "                                                                                                  \n",
      " block_14_depthwise_relu (ReLU)  (None, 7, 7, 960)   0           ['block_14_depthwise_BN[0][0]']  \n",
      "                                                                                                  \n",
      " block_14_project (Conv2D)      (None, 7, 7, 160)    153600      ['block_14_depthwise_relu[0][0]']\n",
      "                                                                                                  \n",
      " block_14_project_BN (BatchNorm  (None, 7, 7, 160)   640         ['block_14_project[0][0]']       \n",
      " alization)                                                                                       \n",
      "                                                                                                  \n",
      " block_14_add (Add)             (None, 7, 7, 160)    0           ['block_13_project_BN[0][0]',    \n",
      "                                                                  'block_14_project_BN[0][0]']    \n",
      "                                                                                                  \n",
      " block_15_expand (Conv2D)       (None, 7, 7, 960)    153600      ['block_14_add[0][0]']           \n",
      "                                                                                                  \n",
      " block_15_expand_BN (BatchNorma  (None, 7, 7, 960)   3840        ['block_15_expand[0][0]']        \n",
      " lization)                                                                                        \n",
      "                                                                                                  \n",
      " block_15_expand_relu (ReLU)    (None, 7, 7, 960)    0           ['block_15_expand_BN[0][0]']     \n",
      "                                                                                                  \n",
      " block_15_depthwise (DepthwiseC  (None, 7, 7, 960)   8640        ['block_15_expand_relu[0][0]']   \n",
      " onv2D)                                                                                           \n",
      "                                                                                                  \n",
      " block_15_depthwise_BN (BatchNo  (None, 7, 7, 960)   3840        ['block_15_depthwise[0][0]']     \n",
      " rmalization)                                                                                     \n",
      "                                                                                                  \n",
      " block_15_depthwise_relu (ReLU)  (None, 7, 7, 960)   0           ['block_15_depthwise_BN[0][0]']  \n",
      "                                                                                                  \n",
      " block_15_project (Conv2D)      (None, 7, 7, 160)    153600      ['block_15_depthwise_relu[0][0]']\n",
      "                                                                                                  \n",
      " block_15_project_BN (BatchNorm  (None, 7, 7, 160)   640         ['block_15_project[0][0]']       \n",
      " alization)                                                                                       \n",
      "                                                                                                  \n",
      " block_15_add (Add)             (None, 7, 7, 160)    0           ['block_14_add[0][0]',           \n",
      "                                                                  'block_15_project_BN[0][0]']    \n",
      "                                                                                                  \n",
      " block_16_expand (Conv2D)       (None, 7, 7, 960)    153600      ['block_15_add[0][0]']           \n",
      "                                                                                                  \n",
      " block_16_expand_BN (BatchNorma  (None, 7, 7, 960)   3840        ['block_16_expand[0][0]']        \n",
      " lization)                                                                                        \n",
      "                                                                                                  \n",
      " block_16_expand_relu (ReLU)    (None, 7, 7, 960)    0           ['block_16_expand_BN[0][0]']     \n",
      "                                                                                                  \n",
      " block_16_depthwise (DepthwiseC  (None, 7, 7, 960)   8640        ['block_16_expand_relu[0][0]']   \n",
      " onv2D)                                                                                           \n",
      "                                                                                                  \n",
      " block_16_depthwise_BN (BatchNo  (None, 7, 7, 960)   3840        ['block_16_depthwise[0][0]']     \n",
      " rmalization)                                                                                     \n",
      "                                                                                                  \n",
      " block_16_depthwise_relu (ReLU)  (None, 7, 7, 960)   0           ['block_16_depthwise_BN[0][0]']  \n",
      "                                                                                                  \n",
      " block_16_project (Conv2D)      (None, 7, 7, 320)    307200      ['block_16_depthwise_relu[0][0]']\n",
      "                                                                                                  \n",
      " block_16_project_BN (BatchNorm  (None, 7, 7, 320)   1280        ['block_16_project[0][0]']       \n",
      " alization)                                                                                       \n",
      "                                                                                                  \n",
      " Conv_1 (Conv2D)                (None, 7, 7, 1280)   409600      ['block_16_project_BN[0][0]']    \n",
      "                                                                                                  \n",
      " Conv_1_bn (BatchNormalization)  (None, 7, 7, 1280)  5120        ['Conv_1[0][0]']                 \n",
      "                                                                                                  \n",
      " out_relu (ReLU)                (None, 7, 7, 1280)   0           ['Conv_1_bn[0][0]']              \n",
      "                                                                                                  \n",
      " global_average_pooling2d (Glob  (None, 1280)        0           ['out_relu[0][0]']               \n",
      " alAveragePooling2D)                                                                              \n",
      "                                                                                                  \n",
      " predictions (Dense)            (None, 1000)         1281000     ['global_average_pooling2d[0][0]'\n",
      "                                                                 ]                                \n",
      "                                                                                                  \n",
      "==================================================================================================\n",
      "Total params: 3,538,984\n",
      "Trainable params: 3,504,872\n",
      "Non-trainable params: 34,112\n",
      "__________________________________________________________________________________________________\n"
     ]
    }
   ],
   "source": [
    "Model.summary()"
   ]
  },
  {
   "cell_type": "markdown",
   "id": "7f43a2e9",
   "metadata": {},
   "source": [
    "## Transfer Learning"
   ]
  },
  {
   "cell_type": "code",
   "execution_count": 26,
   "id": "cd120c32",
   "metadata": {
    "ExecuteTime": {
     "end_time": "2023-01-02T07:04:53.418402Z",
     "start_time": "2023-01-02T07:04:53.411318Z"
    }
   },
   "outputs": [],
   "source": [
    "# Model.trainable=False"
   ]
  },
  {
   "cell_type": "code",
   "execution_count": 27,
   "id": "ed20a184",
   "metadata": {
    "ExecuteTime": {
     "end_time": "2023-01-02T07:04:54.366370Z",
     "start_time": "2023-01-02T07:04:54.344174Z"
    }
   },
   "outputs": [],
   "source": [
    "model_layers=Model.layers"
   ]
  },
  {
   "cell_type": "code",
   "execution_count": 31,
   "id": "9d750ee9",
   "metadata": {
    "ExecuteTime": {
     "end_time": "2023-01-02T07:04:55.193645Z",
     "start_time": "2023-01-02T07:04:55.168110Z"
    }
   },
   "outputs": [
    {
     "data": {
      "text/plain": [
       "<KerasTensor: shape=(None, 224, 224, 3) dtype=float32 (created by layer 'input_1')>"
      ]
     },
     "execution_count": 31,
     "metadata": {},
     "output_type": "execute_result"
    }
   ],
   "source": [
    "model_layers[0].input"
   ]
  },
  {
   "cell_type": "code",
   "execution_count": 32,
   "id": "a9558a65",
   "metadata": {
    "ExecuteTime": {
     "end_time": "2023-01-02T07:04:57.145640Z",
     "start_time": "2023-01-02T07:04:57.124613Z"
    }
   },
   "outputs": [
    {
     "data": {
      "text/plain": [
       "<KerasTensor: shape=(None, 7, 7, 1280) dtype=float32 (created by layer 'out_relu')>"
      ]
     },
     "execution_count": 32,
     "metadata": {},
     "output_type": "execute_result"
    }
   ],
   "source": [
    "model_layers[-2].input"
   ]
  },
  {
   "cell_type": "code",
   "execution_count": 33,
   "id": "6e33c7d4",
   "metadata": {
    "ExecuteTime": {
     "end_time": "2023-01-02T07:04:58.352836Z",
     "start_time": "2023-01-02T07:04:58.312464Z"
    }
   },
   "outputs": [],
   "source": [
    "final_layer=keras.layers.Dense(128,activation='relu')(model_layers[-2].output)\n",
    "final_layer=keras.layers.Dense(64,activation='relu')(final_layer)\n",
    "final_layer=keras.layers.Dense(len(class_list),activation='softmax')(final_layer)"
   ]
  },
  {
   "cell_type": "code",
   "execution_count": 35,
   "id": "9761898a",
   "metadata": {
    "ExecuteTime": {
     "end_time": "2023-01-02T07:04:59.447087Z",
     "start_time": "2023-01-02T07:04:59.433052Z"
    }
   },
   "outputs": [],
   "source": [
    "Transformed_Model=keras.Model(inputs=model_layers[0].input,outputs=final_layer)"
   ]
  },
  {
   "cell_type": "code",
   "execution_count": 36,
   "id": "d7331280",
   "metadata": {
    "ExecuteTime": {
     "end_time": "2023-01-02T07:05:00.777242Z",
     "start_time": "2023-01-02T07:05:00.460272Z"
    },
    "scrolled": false
   },
   "outputs": [
    {
     "name": "stdout",
     "output_type": "stream",
     "text": [
      "Model: \"model\"\n",
      "_____________________________________________________________________________________________________________\n",
      " Layer (type)                   Output Shape         Param #     Connected to                     Trainable  \n",
      "=============================================================================================================\n",
      " input_1 (InputLayer)           [(None, 224, 224, 3  0           []                               Y          \n",
      "                                )]                                                                           \n",
      "                                                                                                             \n",
      " Conv1 (Conv2D)                 (None, 112, 112, 32  864         ['input_1[0][0]']                Y          \n",
      "                                )                                                                            \n",
      "                                                                                                             \n",
      " bn_Conv1 (BatchNormalization)  (None, 112, 112, 32  128         ['Conv1[0][0]']                  Y          \n",
      "                                )                                                                            \n",
      "                                                                                                             \n",
      " Conv1_relu (ReLU)              (None, 112, 112, 32  0           ['bn_Conv1[0][0]']               Y          \n",
      "                                )                                                                            \n",
      "                                                                                                             \n",
      " expanded_conv_depthwise (Depth  (None, 112, 112, 32  288        ['Conv1_relu[0][0]']             Y          \n",
      " wiseConv2D)                    )                                                                            \n",
      "                                                                                                             \n",
      " expanded_conv_depthwise_BN (Ba  (None, 112, 112, 32  128        ['expanded_conv_depthwise[0][0]  Y          \n",
      " tchNormalization)              )                                ']                                          \n",
      "                                                                                                             \n",
      " expanded_conv_depthwise_relu (  (None, 112, 112, 32  0          ['expanded_conv_depthwise_BN[0]  Y          \n",
      " ReLU)                          )                                [0]']                                       \n",
      "                                                                                                             \n",
      " expanded_conv_project (Conv2D)  (None, 112, 112, 16  512        ['expanded_conv_depthwise_relu[  Y          \n",
      "                                )                                0][0]']                                     \n",
      "                                                                                                             \n",
      " expanded_conv_project_BN (Batc  (None, 112, 112, 16  64         ['expanded_conv_project[0][0]']  Y          \n",
      " hNormalization)                )                                                                            \n",
      "                                                                                                             \n",
      " block_1_expand (Conv2D)        (None, 112, 112, 96  1536        ['expanded_conv_project_BN[0][0  Y          \n",
      "                                )                                ]']                                         \n",
      "                                                                                                             \n",
      " block_1_expand_BN (BatchNormal  (None, 112, 112, 96  384        ['block_1_expand[0][0]']         Y          \n",
      " ization)                       )                                                                            \n",
      "                                                                                                             \n",
      " block_1_expand_relu (ReLU)     (None, 112, 112, 96  0           ['block_1_expand_BN[0][0]']      Y          \n",
      "                                )                                                                            \n",
      "                                                                                                             \n",
      " block_1_pad (ZeroPadding2D)    (None, 113, 113, 96  0           ['block_1_expand_relu[0][0]']    Y          \n",
      "                                )                                                                            \n",
      "                                                                                                             \n",
      " block_1_depthwise (DepthwiseCo  (None, 56, 56, 96)  864         ['block_1_pad[0][0]']            Y          \n",
      " nv2D)                                                                                                       \n",
      "                                                                                                             \n",
      " block_1_depthwise_BN (BatchNor  (None, 56, 56, 96)  384         ['block_1_depthwise[0][0]']      Y          \n",
      " malization)                                                                                                 \n",
      "                                                                                                             \n",
      " block_1_depthwise_relu (ReLU)  (None, 56, 56, 96)   0           ['block_1_depthwise_BN[0][0]']   Y          \n",
      "                                                                                                             \n",
      " block_1_project (Conv2D)       (None, 56, 56, 24)   2304        ['block_1_depthwise_relu[0][0]'  Y          \n",
      "                                                                 ]                                           \n",
      "                                                                                                             \n",
      " block_1_project_BN (BatchNorma  (None, 56, 56, 24)  96          ['block_1_project[0][0]']        Y          \n",
      " lization)                                                                                                   \n",
      "                                                                                                             \n",
      " block_2_expand (Conv2D)        (None, 56, 56, 144)  3456        ['block_1_project_BN[0][0]']     Y          \n",
      "                                                                                                             \n",
      " block_2_expand_BN (BatchNormal  (None, 56, 56, 144)  576        ['block_2_expand[0][0]']         Y          \n",
      " ization)                                                                                                    \n",
      "                                                                                                             \n",
      " block_2_expand_relu (ReLU)     (None, 56, 56, 144)  0           ['block_2_expand_BN[0][0]']      Y          \n",
      "                                                                                                             \n",
      " block_2_depthwise (DepthwiseCo  (None, 56, 56, 144)  1296       ['block_2_expand_relu[0][0]']    Y          \n",
      " nv2D)                                                                                                       \n",
      "                                                                                                             \n",
      " block_2_depthwise_BN (BatchNor  (None, 56, 56, 144)  576        ['block_2_depthwise[0][0]']      Y          \n",
      " malization)                                                                                                 \n",
      "                                                                                                             \n",
      " block_2_depthwise_relu (ReLU)  (None, 56, 56, 144)  0           ['block_2_depthwise_BN[0][0]']   Y          \n",
      "                                                                                                             \n",
      " block_2_project (Conv2D)       (None, 56, 56, 24)   3456        ['block_2_depthwise_relu[0][0]'  Y          \n",
      "                                                                 ]                                           \n",
      "                                                                                                             \n",
      " block_2_project_BN (BatchNorma  (None, 56, 56, 24)  96          ['block_2_project[0][0]']        Y          \n"
     ]
    },
    {
     "name": "stdout",
     "output_type": "stream",
     "text": [
      " lization)                                                                                                   \n",
      "                                                                                                             \n",
      " block_2_add (Add)              (None, 56, 56, 24)   0           ['block_1_project_BN[0][0]',     Y          \n",
      "                                                                  'block_2_project_BN[0][0]']                \n",
      "                                                                                                             \n",
      " block_3_expand (Conv2D)        (None, 56, 56, 144)  3456        ['block_2_add[0][0]']            Y          \n",
      "                                                                                                             \n",
      " block_3_expand_BN (BatchNormal  (None, 56, 56, 144)  576        ['block_3_expand[0][0]']         Y          \n",
      " ization)                                                                                                    \n",
      "                                                                                                             \n",
      " block_3_expand_relu (ReLU)     (None, 56, 56, 144)  0           ['block_3_expand_BN[0][0]']      Y          \n",
      "                                                                                                             \n",
      " block_3_pad (ZeroPadding2D)    (None, 57, 57, 144)  0           ['block_3_expand_relu[0][0]']    Y          \n",
      "                                                                                                             \n",
      " block_3_depthwise (DepthwiseCo  (None, 28, 28, 144)  1296       ['block_3_pad[0][0]']            Y          \n",
      " nv2D)                                                                                                       \n",
      "                                                                                                             \n",
      " block_3_depthwise_BN (BatchNor  (None, 28, 28, 144)  576        ['block_3_depthwise[0][0]']      Y          \n",
      " malization)                                                                                                 \n",
      "                                                                                                             \n",
      " block_3_depthwise_relu (ReLU)  (None, 28, 28, 144)  0           ['block_3_depthwise_BN[0][0]']   Y          \n",
      "                                                                                                             \n",
      " block_3_project (Conv2D)       (None, 28, 28, 32)   4608        ['block_3_depthwise_relu[0][0]'  Y          \n",
      "                                                                 ]                                           \n",
      "                                                                                                             \n",
      " block_3_project_BN (BatchNorma  (None, 28, 28, 32)  128         ['block_3_project[0][0]']        Y          \n",
      " lization)                                                                                                   \n",
      "                                                                                                             \n",
      " block_4_expand (Conv2D)        (None, 28, 28, 192)  6144        ['block_3_project_BN[0][0]']     Y          \n",
      "                                                                                                             \n",
      " block_4_expand_BN (BatchNormal  (None, 28, 28, 192)  768        ['block_4_expand[0][0]']         Y          \n",
      " ization)                                                                                                    \n",
      "                                                                                                             \n",
      " block_4_expand_relu (ReLU)     (None, 28, 28, 192)  0           ['block_4_expand_BN[0][0]']      Y          \n",
      "                                                                                                             \n",
      " block_4_depthwise (DepthwiseCo  (None, 28, 28, 192)  1728       ['block_4_expand_relu[0][0]']    Y          \n",
      " nv2D)                                                                                                       \n",
      "                                                                                                             \n",
      " block_4_depthwise_BN (BatchNor  (None, 28, 28, 192)  768        ['block_4_depthwise[0][0]']      Y          \n",
      " malization)                                                                                                 \n",
      "                                                                                                             \n",
      " block_4_depthwise_relu (ReLU)  (None, 28, 28, 192)  0           ['block_4_depthwise_BN[0][0]']   Y          \n",
      "                                                                                                             \n",
      " block_4_project (Conv2D)       (None, 28, 28, 32)   6144        ['block_4_depthwise_relu[0][0]'  Y          \n",
      "                                                                 ]                                           \n",
      "                                                                                                             \n",
      " block_4_project_BN (BatchNorma  (None, 28, 28, 32)  128         ['block_4_project[0][0]']        Y          \n",
      " lization)                                                                                                   \n",
      "                                                                                                             \n",
      " block_4_add (Add)              (None, 28, 28, 32)   0           ['block_3_project_BN[0][0]',     Y          \n",
      "                                                                  'block_4_project_BN[0][0]']                \n",
      "                                                                                                             \n",
      " block_5_expand (Conv2D)        (None, 28, 28, 192)  6144        ['block_4_add[0][0]']            Y          \n",
      "                                                                                                             \n",
      " block_5_expand_BN (BatchNormal  (None, 28, 28, 192)  768        ['block_5_expand[0][0]']         Y          \n",
      " ization)                                                                                                    \n",
      "                                                                                                             \n",
      " block_5_expand_relu (ReLU)     (None, 28, 28, 192)  0           ['block_5_expand_BN[0][0]']      Y          \n",
      "                                                                                                             \n",
      " block_5_depthwise (DepthwiseCo  (None, 28, 28, 192)  1728       ['block_5_expand_relu[0][0]']    Y          \n",
      " nv2D)                                                                                                       \n",
      "                                                                                                             \n",
      " block_5_depthwise_BN (BatchNor  (None, 28, 28, 192)  768        ['block_5_depthwise[0][0]']      Y          \n",
      " malization)                                                                                                 \n",
      "                                                                                                             \n",
      " block_5_depthwise_relu (ReLU)  (None, 28, 28, 192)  0           ['block_5_depthwise_BN[0][0]']   Y          \n",
      "                                                                                                             \n",
      " block_5_project (Conv2D)       (None, 28, 28, 32)   6144        ['block_5_depthwise_relu[0][0]'  Y          \n",
      "                                                                 ]                                           \n",
      "                                                                                                             \n",
      " block_5_project_BN (BatchNorma  (None, 28, 28, 32)  128         ['block_5_project[0][0]']        Y          \n",
      " lization)                                                                                                   \n",
      "                                                                                                             \n",
      " block_5_add (Add)              (None, 28, 28, 32)   0           ['block_4_add[0][0]',            Y          \n",
      "                                                                  'block_5_project_BN[0][0]']                \n"
     ]
    },
    {
     "name": "stdout",
     "output_type": "stream",
     "text": [
      "                                                                                                             \n",
      " block_6_expand (Conv2D)        (None, 28, 28, 192)  6144        ['block_5_add[0][0]']            Y          \n",
      "                                                                                                             \n",
      " block_6_expand_BN (BatchNormal  (None, 28, 28, 192)  768        ['block_6_expand[0][0]']         Y          \n",
      " ization)                                                                                                    \n",
      "                                                                                                             \n",
      " block_6_expand_relu (ReLU)     (None, 28, 28, 192)  0           ['block_6_expand_BN[0][0]']      Y          \n",
      "                                                                                                             \n",
      " block_6_pad (ZeroPadding2D)    (None, 29, 29, 192)  0           ['block_6_expand_relu[0][0]']    Y          \n",
      "                                                                                                             \n",
      " block_6_depthwise (DepthwiseCo  (None, 14, 14, 192)  1728       ['block_6_pad[0][0]']            Y          \n",
      " nv2D)                                                                                                       \n",
      "                                                                                                             \n",
      " block_6_depthwise_BN (BatchNor  (None, 14, 14, 192)  768        ['block_6_depthwise[0][0]']      Y          \n",
      " malization)                                                                                                 \n",
      "                                                                                                             \n",
      " block_6_depthwise_relu (ReLU)  (None, 14, 14, 192)  0           ['block_6_depthwise_BN[0][0]']   Y          \n",
      "                                                                                                             \n",
      " block_6_project (Conv2D)       (None, 14, 14, 64)   12288       ['block_6_depthwise_relu[0][0]'  Y          \n",
      "                                                                 ]                                           \n",
      "                                                                                                             \n",
      " block_6_project_BN (BatchNorma  (None, 14, 14, 64)  256         ['block_6_project[0][0]']        Y          \n",
      " lization)                                                                                                   \n",
      "                                                                                                             \n",
      " block_7_expand (Conv2D)        (None, 14, 14, 384)  24576       ['block_6_project_BN[0][0]']     Y          \n",
      "                                                                                                             \n",
      " block_7_expand_BN (BatchNormal  (None, 14, 14, 384)  1536       ['block_7_expand[0][0]']         Y          \n",
      " ization)                                                                                                    \n",
      "                                                                                                             \n",
      " block_7_expand_relu (ReLU)     (None, 14, 14, 384)  0           ['block_7_expand_BN[0][0]']      Y          \n",
      "                                                                                                             \n",
      " block_7_depthwise (DepthwiseCo  (None, 14, 14, 384)  3456       ['block_7_expand_relu[0][0]']    Y          \n",
      " nv2D)                                                                                                       \n",
      "                                                                                                             \n",
      " block_7_depthwise_BN (BatchNor  (None, 14, 14, 384)  1536       ['block_7_depthwise[0][0]']      Y          \n",
      " malization)                                                                                                 \n",
      "                                                                                                             \n",
      " block_7_depthwise_relu (ReLU)  (None, 14, 14, 384)  0           ['block_7_depthwise_BN[0][0]']   Y          \n",
      "                                                                                                             \n",
      " block_7_project (Conv2D)       (None, 14, 14, 64)   24576       ['block_7_depthwise_relu[0][0]'  Y          \n",
      "                                                                 ]                                           \n",
      "                                                                                                             \n",
      " block_7_project_BN (BatchNorma  (None, 14, 14, 64)  256         ['block_7_project[0][0]']        Y          \n",
      " lization)                                                                                                   \n",
      "                                                                                                             \n",
      " block_7_add (Add)              (None, 14, 14, 64)   0           ['block_6_project_BN[0][0]',     Y          \n",
      "                                                                  'block_7_project_BN[0][0]']                \n",
      "                                                                                                             \n",
      " block_8_expand (Conv2D)        (None, 14, 14, 384)  24576       ['block_7_add[0][0]']            Y          \n",
      "                                                                                                             \n",
      " block_8_expand_BN (BatchNormal  (None, 14, 14, 384)  1536       ['block_8_expand[0][0]']         Y          \n",
      " ization)                                                                                                    \n",
      "                                                                                                             \n",
      " block_8_expand_relu (ReLU)     (None, 14, 14, 384)  0           ['block_8_expand_BN[0][0]']      Y          \n",
      "                                                                                                             \n",
      " block_8_depthwise (DepthwiseCo  (None, 14, 14, 384)  3456       ['block_8_expand_relu[0][0]']    Y          \n",
      " nv2D)                                                                                                       \n",
      "                                                                                                             \n",
      " block_8_depthwise_BN (BatchNor  (None, 14, 14, 384)  1536       ['block_8_depthwise[0][0]']      Y          \n",
      " malization)                                                                                                 \n",
      "                                                                                                             \n",
      " block_8_depthwise_relu (ReLU)  (None, 14, 14, 384)  0           ['block_8_depthwise_BN[0][0]']   Y          \n",
      "                                                                                                             \n",
      " block_8_project (Conv2D)       (None, 14, 14, 64)   24576       ['block_8_depthwise_relu[0][0]'  Y          \n",
      "                                                                 ]                                           \n",
      "                                                                                                             \n",
      " block_8_project_BN (BatchNorma  (None, 14, 14, 64)  256         ['block_8_project[0][0]']        Y          \n",
      " lization)                                                                                                   \n",
      "                                                                                                             \n",
      " block_8_add (Add)              (None, 14, 14, 64)   0           ['block_7_add[0][0]',            Y          \n",
      "                                                                  'block_8_project_BN[0][0]']                \n",
      "                                                                                                             \n",
      " block_9_expand (Conv2D)        (None, 14, 14, 384)  24576       ['block_8_add[0][0]']            Y          \n",
      "                                                                                                             \n",
      " block_9_expand_BN (BatchNormal  (None, 14, 14, 384)  1536       ['block_9_expand[0][0]']         Y          \n"
     ]
    },
    {
     "name": "stdout",
     "output_type": "stream",
     "text": [
      " ization)                                                                                                    \n",
      "                                                                                                             \n",
      " block_9_expand_relu (ReLU)     (None, 14, 14, 384)  0           ['block_9_expand_BN[0][0]']      Y          \n",
      "                                                                                                             \n",
      " block_9_depthwise (DepthwiseCo  (None, 14, 14, 384)  3456       ['block_9_expand_relu[0][0]']    Y          \n",
      " nv2D)                                                                                                       \n",
      "                                                                                                             \n",
      " block_9_depthwise_BN (BatchNor  (None, 14, 14, 384)  1536       ['block_9_depthwise[0][0]']      Y          \n",
      " malization)                                                                                                 \n",
      "                                                                                                             \n",
      " block_9_depthwise_relu (ReLU)  (None, 14, 14, 384)  0           ['block_9_depthwise_BN[0][0]']   Y          \n",
      "                                                                                                             \n",
      " block_9_project (Conv2D)       (None, 14, 14, 64)   24576       ['block_9_depthwise_relu[0][0]'  Y          \n",
      "                                                                 ]                                           \n",
      "                                                                                                             \n",
      " block_9_project_BN (BatchNorma  (None, 14, 14, 64)  256         ['block_9_project[0][0]']        Y          \n",
      " lization)                                                                                                   \n",
      "                                                                                                             \n",
      " block_9_add (Add)              (None, 14, 14, 64)   0           ['block_8_add[0][0]',            Y          \n",
      "                                                                  'block_9_project_BN[0][0]']                \n",
      "                                                                                                             \n",
      " block_10_expand (Conv2D)       (None, 14, 14, 384)  24576       ['block_9_add[0][0]']            Y          \n",
      "                                                                                                             \n",
      " block_10_expand_BN (BatchNorma  (None, 14, 14, 384)  1536       ['block_10_expand[0][0]']        Y          \n",
      " lization)                                                                                                   \n",
      "                                                                                                             \n",
      " block_10_expand_relu (ReLU)    (None, 14, 14, 384)  0           ['block_10_expand_BN[0][0]']     Y          \n",
      "                                                                                                             \n",
      " block_10_depthwise (DepthwiseC  (None, 14, 14, 384)  3456       ['block_10_expand_relu[0][0]']   Y          \n",
      " onv2D)                                                                                                      \n",
      "                                                                                                             \n",
      " block_10_depthwise_BN (BatchNo  (None, 14, 14, 384)  1536       ['block_10_depthwise[0][0]']     Y          \n",
      " rmalization)                                                                                                \n",
      "                                                                                                             \n",
      " block_10_depthwise_relu (ReLU)  (None, 14, 14, 384)  0          ['block_10_depthwise_BN[0][0]']  Y          \n",
      "                                                                                                             \n",
      " block_10_project (Conv2D)      (None, 14, 14, 96)   36864       ['block_10_depthwise_relu[0][0]  Y          \n",
      "                                                                 ']                                          \n",
      "                                                                                                             \n",
      " block_10_project_BN (BatchNorm  (None, 14, 14, 96)  384         ['block_10_project[0][0]']       Y          \n",
      " alization)                                                                                                  \n",
      "                                                                                                             \n",
      " block_11_expand (Conv2D)       (None, 14, 14, 576)  55296       ['block_10_project_BN[0][0]']    Y          \n",
      "                                                                                                             \n",
      " block_11_expand_BN (BatchNorma  (None, 14, 14, 576)  2304       ['block_11_expand[0][0]']        Y          \n",
      " lization)                                                                                                   \n",
      "                                                                                                             \n",
      " block_11_expand_relu (ReLU)    (None, 14, 14, 576)  0           ['block_11_expand_BN[0][0]']     Y          \n",
      "                                                                                                             \n",
      " block_11_depthwise (DepthwiseC  (None, 14, 14, 576)  5184       ['block_11_expand_relu[0][0]']   Y          \n",
      " onv2D)                                                                                                      \n",
      "                                                                                                             \n",
      " block_11_depthwise_BN (BatchNo  (None, 14, 14, 576)  2304       ['block_11_depthwise[0][0]']     Y          \n",
      " rmalization)                                                                                                \n",
      "                                                                                                             \n",
      " block_11_depthwise_relu (ReLU)  (None, 14, 14, 576)  0          ['block_11_depthwise_BN[0][0]']  Y          \n",
      "                                                                                                             \n",
      " block_11_project (Conv2D)      (None, 14, 14, 96)   55296       ['block_11_depthwise_relu[0][0]  Y          \n",
      "                                                                 ']                                          \n",
      "                                                                                                             \n",
      " block_11_project_BN (BatchNorm  (None, 14, 14, 96)  384         ['block_11_project[0][0]']       Y          \n",
      " alization)                                                                                                  \n",
      "                                                                                                             \n",
      " block_11_add (Add)             (None, 14, 14, 96)   0           ['block_10_project_BN[0][0]',    Y          \n",
      "                                                                  'block_11_project_BN[0][0]']               \n",
      "                                                                                                             \n",
      " block_12_expand (Conv2D)       (None, 14, 14, 576)  55296       ['block_11_add[0][0]']           Y          \n",
      "                                                                                                             \n",
      " block_12_expand_BN (BatchNorma  (None, 14, 14, 576)  2304       ['block_12_expand[0][0]']        Y          \n",
      " lization)                                                                                                   \n",
      "                                                                                                             \n",
      " block_12_expand_relu (ReLU)    (None, 14, 14, 576)  0           ['block_12_expand_BN[0][0]']     Y          \n",
      "                                                                                                             \n",
      " block_12_depthwise (DepthwiseC  (None, 14, 14, 576)  5184       ['block_12_expand_relu[0][0]']   Y          \n",
      " onv2D)                                                                                                      \n"
     ]
    },
    {
     "name": "stdout",
     "output_type": "stream",
     "text": [
      "                                                                                                             \n",
      " block_12_depthwise_BN (BatchNo  (None, 14, 14, 576)  2304       ['block_12_depthwise[0][0]']     Y          \n",
      " rmalization)                                                                                                \n",
      "                                                                                                             \n",
      " block_12_depthwise_relu (ReLU)  (None, 14, 14, 576)  0          ['block_12_depthwise_BN[0][0]']  Y          \n",
      "                                                                                                             \n",
      " block_12_project (Conv2D)      (None, 14, 14, 96)   55296       ['block_12_depthwise_relu[0][0]  Y          \n",
      "                                                                 ']                                          \n",
      "                                                                                                             \n",
      " block_12_project_BN (BatchNorm  (None, 14, 14, 96)  384         ['block_12_project[0][0]']       Y          \n",
      " alization)                                                                                                  \n",
      "                                                                                                             \n",
      " block_12_add (Add)             (None, 14, 14, 96)   0           ['block_11_add[0][0]',           Y          \n",
      "                                                                  'block_12_project_BN[0][0]']               \n",
      "                                                                                                             \n",
      " block_13_expand (Conv2D)       (None, 14, 14, 576)  55296       ['block_12_add[0][0]']           Y          \n",
      "                                                                                                             \n",
      " block_13_expand_BN (BatchNorma  (None, 14, 14, 576)  2304       ['block_13_expand[0][0]']        Y          \n",
      " lization)                                                                                                   \n",
      "                                                                                                             \n",
      " block_13_expand_relu (ReLU)    (None, 14, 14, 576)  0           ['block_13_expand_BN[0][0]']     Y          \n",
      "                                                                                                             \n",
      " block_13_pad (ZeroPadding2D)   (None, 15, 15, 576)  0           ['block_13_expand_relu[0][0]']   Y          \n",
      "                                                                                                             \n",
      " block_13_depthwise (DepthwiseC  (None, 7, 7, 576)   5184        ['block_13_pad[0][0]']           Y          \n",
      " onv2D)                                                                                                      \n",
      "                                                                                                             \n",
      " block_13_depthwise_BN (BatchNo  (None, 7, 7, 576)   2304        ['block_13_depthwise[0][0]']     Y          \n",
      " rmalization)                                                                                                \n",
      "                                                                                                             \n",
      " block_13_depthwise_relu (ReLU)  (None, 7, 7, 576)   0           ['block_13_depthwise_BN[0][0]']  Y          \n",
      "                                                                                                             \n",
      " block_13_project (Conv2D)      (None, 7, 7, 160)    92160       ['block_13_depthwise_relu[0][0]  Y          \n",
      "                                                                 ']                                          \n",
      "                                                                                                             \n",
      " block_13_project_BN (BatchNorm  (None, 7, 7, 160)   640         ['block_13_project[0][0]']       Y          \n",
      " alization)                                                                                                  \n",
      "                                                                                                             \n",
      " block_14_expand (Conv2D)       (None, 7, 7, 960)    153600      ['block_13_project_BN[0][0]']    Y          \n",
      "                                                                                                             \n",
      " block_14_expand_BN (BatchNorma  (None, 7, 7, 960)   3840        ['block_14_expand[0][0]']        Y          \n",
      " lization)                                                                                                   \n",
      "                                                                                                             \n",
      " block_14_expand_relu (ReLU)    (None, 7, 7, 960)    0           ['block_14_expand_BN[0][0]']     Y          \n",
      "                                                                                                             \n",
      " block_14_depthwise (DepthwiseC  (None, 7, 7, 960)   8640        ['block_14_expand_relu[0][0]']   Y          \n",
      " onv2D)                                                                                                      \n",
      "                                                                                                             \n",
      " block_14_depthwise_BN (BatchNo  (None, 7, 7, 960)   3840        ['block_14_depthwise[0][0]']     Y          \n",
      " rmalization)                                                                                                \n",
      "                                                                                                             \n",
      " block_14_depthwise_relu (ReLU)  (None, 7, 7, 960)   0           ['block_14_depthwise_BN[0][0]']  Y          \n",
      "                                                                                                             \n",
      " block_14_project (Conv2D)      (None, 7, 7, 160)    153600      ['block_14_depthwise_relu[0][0]  Y          \n",
      "                                                                 ']                                          \n",
      "                                                                                                             \n",
      " block_14_project_BN (BatchNorm  (None, 7, 7, 160)   640         ['block_14_project[0][0]']       Y          \n",
      " alization)                                                                                                  \n",
      "                                                                                                             \n",
      " block_14_add (Add)             (None, 7, 7, 160)    0           ['block_13_project_BN[0][0]',    Y          \n",
      "                                                                  'block_14_project_BN[0][0]']               \n",
      "                                                                                                             \n",
      " block_15_expand (Conv2D)       (None, 7, 7, 960)    153600      ['block_14_add[0][0]']           Y          \n",
      "                                                                                                             \n",
      " block_15_expand_BN (BatchNorma  (None, 7, 7, 960)   3840        ['block_15_expand[0][0]']        Y          \n",
      " lization)                                                                                                   \n",
      "                                                                                                             \n",
      " block_15_expand_relu (ReLU)    (None, 7, 7, 960)    0           ['block_15_expand_BN[0][0]']     Y          \n",
      "                                                                                                             \n",
      " block_15_depthwise (DepthwiseC  (None, 7, 7, 960)   8640        ['block_15_expand_relu[0][0]']   Y          \n",
      " onv2D)                                                                                                      \n",
      "                                                                                                             \n",
      " block_15_depthwise_BN (BatchNo  (None, 7, 7, 960)   3840        ['block_15_depthwise[0][0]']     Y          \n",
      " rmalization)                                                                                                \n",
      "                                                                                                             \n"
     ]
    },
    {
     "name": "stdout",
     "output_type": "stream",
     "text": [
      " block_15_depthwise_relu (ReLU)  (None, 7, 7, 960)   0           ['block_15_depthwise_BN[0][0]']  Y          \n",
      "                                                                                                             \n",
      " block_15_project (Conv2D)      (None, 7, 7, 160)    153600      ['block_15_depthwise_relu[0][0]  Y          \n",
      "                                                                 ']                                          \n",
      "                                                                                                             \n",
      " block_15_project_BN (BatchNorm  (None, 7, 7, 160)   640         ['block_15_project[0][0]']       Y          \n",
      " alization)                                                                                                  \n",
      "                                                                                                             \n",
      " block_15_add (Add)             (None, 7, 7, 160)    0           ['block_14_add[0][0]',           Y          \n",
      "                                                                  'block_15_project_BN[0][0]']               \n",
      "                                                                                                             \n",
      " block_16_expand (Conv2D)       (None, 7, 7, 960)    153600      ['block_15_add[0][0]']           Y          \n",
      "                                                                                                             \n",
      " block_16_expand_BN (BatchNorma  (None, 7, 7, 960)   3840        ['block_16_expand[0][0]']        Y          \n",
      " lization)                                                                                                   \n",
      "                                                                                                             \n",
      " block_16_expand_relu (ReLU)    (None, 7, 7, 960)    0           ['block_16_expand_BN[0][0]']     Y          \n",
      "                                                                                                             \n",
      " block_16_depthwise (DepthwiseC  (None, 7, 7, 960)   8640        ['block_16_expand_relu[0][0]']   Y          \n",
      " onv2D)                                                                                                      \n",
      "                                                                                                             \n",
      " block_16_depthwise_BN (BatchNo  (None, 7, 7, 960)   3840        ['block_16_depthwise[0][0]']     Y          \n",
      " rmalization)                                                                                                \n",
      "                                                                                                             \n",
      " block_16_depthwise_relu (ReLU)  (None, 7, 7, 960)   0           ['block_16_depthwise_BN[0][0]']  Y          \n",
      "                                                                                                             \n",
      " block_16_project (Conv2D)      (None, 7, 7, 320)    307200      ['block_16_depthwise_relu[0][0]  Y          \n",
      "                                                                 ']                                          \n",
      "                                                                                                             \n",
      " block_16_project_BN (BatchNorm  (None, 7, 7, 320)   1280        ['block_16_project[0][0]']       Y          \n",
      " alization)                                                                                                  \n",
      "                                                                                                             \n",
      " Conv_1 (Conv2D)                (None, 7, 7, 1280)   409600      ['block_16_project_BN[0][0]']    Y          \n",
      "                                                                                                             \n",
      " Conv_1_bn (BatchNormalization)  (None, 7, 7, 1280)  5120        ['Conv_1[0][0]']                 Y          \n",
      "                                                                                                             \n",
      " out_relu (ReLU)                (None, 7, 7, 1280)   0           ['Conv_1_bn[0][0]']              Y          \n",
      "                                                                                                             \n",
      " global_average_pooling2d (Glob  (None, 1280)        0           ['out_relu[0][0]']               Y          \n",
      " alAveragePooling2D)                                                                                         \n",
      "                                                                                                             \n",
      " dense (Dense)                  (None, 128)          163968      ['global_average_pooling2d[0][0  Y          \n",
      "                                                                 ]']                                         \n",
      "                                                                                                             \n",
      " dense_1 (Dense)                (None, 64)           8256        ['dense[0][0]']                  Y          \n",
      "                                                                                                             \n",
      " dense_2 (Dense)                (None, 6)            390         ['dense_1[0][0]']                Y          \n",
      "                                                                                                             \n",
      "=============================================================================================================\n",
      "Total params: 2,430,598\n",
      "Trainable params: 2,396,486\n",
      "Non-trainable params: 34,112\n",
      "_____________________________________________________________________________________________________________\n"
     ]
    }
   ],
   "source": [
    "Transformed_Model.summary(expand_nested=True,show_trainable=True)"
   ]
  },
  {
   "cell_type": "code",
   "execution_count": 37,
   "id": "813528ba",
   "metadata": {
    "ExecuteTime": {
     "end_time": "2023-01-02T07:05:12.967586Z",
     "start_time": "2023-01-02T07:05:12.921388Z"
    }
   },
   "outputs": [],
   "source": [
    "Transformed_Model.compile(optimizer='adam',\n",
    "              loss='sparse_categorical_crossentropy',\n",
    "              metrics=['accuracy']\n",
    ")"
   ]
  },
  {
   "cell_type": "code",
   "execution_count": 39,
   "id": "8f5e44bf",
   "metadata": {
    "ExecuteTime": {
     "end_time": "2023-01-02T07:23:08.865519Z",
     "start_time": "2023-01-02T07:05:19.049836Z"
    }
   },
   "outputs": [
    {
     "name": "stdout",
     "output_type": "stream",
     "text": [
      "Epoch 1/10\n",
      "375/375 [==============================] - 1461s 4s/step - loss: 1.3464 - accuracy: 0.4613\n",
      "Epoch 2/10\n",
      "375/375 [==============================] - 1450s 4s/step - loss: 1.1280 - accuracy: 0.5615\n",
      "Epoch 3/10\n",
      "375/375 [==============================] - 1446s 4s/step - loss: 1.0183 - accuracy: 0.6112\n",
      "Epoch 4/10\n",
      "375/375 [==============================] - 1454s 4s/step - loss: 0.9435 - accuracy: 0.6428\n",
      "Epoch 5/10\n",
      "375/375 [==============================] - 1737s 5s/step - loss: 0.8678 - accuracy: 0.6749\n",
      "Epoch 6/10\n",
      "375/375 [==============================] - 1749s 5s/step - loss: 0.8027 - accuracy: 0.6933\n",
      "Epoch 7/10\n",
      "375/375 [==============================] - 1658s 4s/step - loss: 0.7383 - accuracy: 0.7232\n",
      "Epoch 8/10\n",
      "375/375 [==============================] - 1635s 4s/step - loss: 0.6565 - accuracy: 0.7559\n",
      "Epoch 9/10\n",
      "375/375 [==============================] - 1512s 4s/step - loss: 0.6055 - accuracy: 0.7770\n",
      "Epoch 10/10\n",
      "375/375 [==============================] - 1454s 4s/step - loss: 0.5449 - accuracy: 0.8028\n"
     ]
    },
    {
     "data": {
      "text/plain": [
       "<keras.callbacks.History at 0x276e5a38dc0>"
      ]
     },
     "execution_count": 39,
     "metadata": {},
     "output_type": "execute_result"
    }
   ],
   "source": [
    "Transformed_Model.fit(\n",
    "    Training_Features,Training_Label,\n",
    "    epochs=10,\n",
    "    verbose=1)"
   ]
  },
  {
   "cell_type": "markdown",
   "id": "339d755e",
   "metadata": {},
   "source": [
    "## Evaluation"
   ]
  },
  {
   "cell_type": "code",
   "execution_count": 44,
   "id": "36f078f8",
   "metadata": {
    "ExecuteTime": {
     "end_time": "2023-01-02T07:24:24.141676Z",
     "start_time": "2023-01-02T07:23:13.010586Z"
    }
   },
   "outputs": [
    {
     "name": "stdout",
     "output_type": "stream",
     "text": [
      "94/94 [==============================] - 69s 716ms/step\n"
     ]
    }
   ],
   "source": [
    "Testing_Predictions=Transformed_Model.predict(Testing_Features)"
   ]
  },
  {
   "cell_type": "code",
   "execution_count": 45,
   "id": "5cb43854",
   "metadata": {
    "ExecuteTime": {
     "end_time": "2023-01-02T07:24:34.910226Z",
     "start_time": "2023-01-02T07:24:34.889232Z"
    }
   },
   "outputs": [
    {
     "data": {
      "text/plain": [
       "array([1.1492610e-02, 2.6083174e-03, 4.8522567e-03, 9.1857655e-06,\n",
       "       9.0480084e-04, 9.8013282e-01], dtype=float32)"
      ]
     },
     "execution_count": 45,
     "metadata": {},
     "output_type": "execute_result"
    }
   ],
   "source": [
    "Testing_Predictions[0]"
   ]
  },
  {
   "cell_type": "code",
   "execution_count": 46,
   "id": "065edfc2",
   "metadata": {
    "ExecuteTime": {
     "end_time": "2023-01-02T07:24:36.059508Z",
     "start_time": "2023-01-02T07:24:36.036473Z"
    }
   },
   "outputs": [
    {
     "data": {
      "text/plain": [
       "5"
      ]
     },
     "execution_count": 46,
     "metadata": {},
     "output_type": "execute_result"
    }
   ],
   "source": [
    "numpy.argmax(Testing_Predictions[0])"
   ]
  },
  {
   "cell_type": "code",
   "execution_count": 47,
   "id": "a1efca10",
   "metadata": {
    "ExecuteTime": {
     "end_time": "2023-01-02T07:24:36.893077Z",
     "start_time": "2023-01-02T07:24:36.885073Z"
    }
   },
   "outputs": [
    {
     "data": {
      "text/plain": [
       "0"
      ]
     },
     "execution_count": 47,
     "metadata": {},
     "output_type": "execute_result"
    }
   ],
   "source": [
    "Testing_Label[0]"
   ]
  },
  {
   "cell_type": "code",
   "execution_count": 48,
   "id": "b55ec7c5",
   "metadata": {
    "ExecuteTime": {
     "end_time": "2023-01-02T07:24:40.501006Z",
     "start_time": "2023-01-02T07:24:40.430008Z"
    }
   },
   "outputs": [],
   "source": [
    "classification_data=confusion_matrix(\n",
    "    [class_list[i] for i in Testing_Label],\n",
    "    [class_list[numpy.argmax(prediction)] for prediction in Testing_Predictions]\n",
    ")"
   ]
  },
  {
   "cell_type": "code",
   "execution_count": 49,
   "id": "370fbabc",
   "metadata": {
    "ExecuteTime": {
     "end_time": "2023-01-02T07:24:41.426198Z",
     "start_time": "2023-01-02T07:24:41.413192Z"
    }
   },
   "outputs": [
    {
     "data": {
      "text/plain": [
       "array([[ 86,  95,  62,  16,  19, 222],\n",
       "       [ 51, 189,  57,  22,  26, 155],\n",
       "       [  5,  16, 236,   9,   1, 233],\n",
       "       [ 12,  20, 207, 172,   6,  83],\n",
       "       [ 10,  57,  63,  13,  92, 265],\n",
       "       [ 13,  16,  73,   2,  12, 384]], dtype=int64)"
      ]
     },
     "execution_count": 49,
     "metadata": {},
     "output_type": "execute_result"
    }
   ],
   "source": [
    "classification_data"
   ]
  },
  {
   "cell_type": "code",
   "execution_count": 50,
   "id": "c34ffa75",
   "metadata": {
    "ExecuteTime": {
     "end_time": "2023-01-02T07:24:43.307017Z",
     "start_time": "2023-01-02T07:24:43.296977Z"
    }
   },
   "outputs": [
    {
     "data": {
      "text/plain": [
       "array([[ 86,  95,  62,  16,  19, 222],\n",
       "       [ 51, 189,  57,  22,  26, 155],\n",
       "       [  5,  16, 236,   9,   1, 233],\n",
       "       [ 12,  20, 207, 172,   6,  83],\n",
       "       [ 10,  57,  63,  13,  92, 265],\n",
       "       [ 13,  16,  73,   2,  12, 384]], dtype=int64)"
      ]
     },
     "execution_count": 50,
     "metadata": {},
     "output_type": "execute_result"
    }
   ],
   "source": [
    "classification_data"
   ]
  },
  {
   "cell_type": "code",
   "execution_count": 51,
   "id": "1d3f9f52",
   "metadata": {
    "ExecuteTime": {
     "end_time": "2023-01-02T07:24:45.267029Z",
     "start_time": "2023-01-02T07:24:44.626809Z"
    }
   },
   "outputs": [
    {
     "data": {
      "text/plain": [
       "<AxesSubplot: >"
      ]
     },
     "execution_count": 51,
     "metadata": {},
     "output_type": "execute_result"
    },
    {
     "data": {
      "image/png": "[encoded data removed]",
      "text/plain": [
       "<Figure size 500x300 with 2 Axes>"
      ]
     },
     "metadata": {},
     "output_type": "display_data"
    }
   ],
   "source": [
    "seaborn.heatmap(classification_data,annot=True)"
   ]
  },
  {
   "cell_type": "code",
   "execution_count": 52,
   "id": "d9a2547f",
   "metadata": {
    "ExecuteTime": {
     "end_time": "2023-01-02T07:24:47.873054Z",
     "start_time": "2023-01-02T07:24:47.809907Z"
    }
   },
   "outputs": [
    {
     "name": "stdout",
     "output_type": "stream",
     "text": [
      "              precision    recall  f1-score   support\n",
      "\n",
      "       anger       0.49      0.17      0.25       500\n",
      "     disgust       0.48      0.38      0.42       500\n",
      "        fear       0.34      0.47      0.39       500\n",
      "       happy       0.74      0.34      0.47       500\n",
      "         sad       0.59      0.18      0.28       500\n",
      "    surprise       0.29      0.77      0.42       500\n",
      "\n",
      "    accuracy                           0.39      3000\n",
      "   macro avg       0.49      0.39      0.37      3000\n",
      "weighted avg       0.49      0.39      0.37      3000\n",
      "\n"
     ]
    }
   ],
   "source": [
    "print(classification_report(\n",
    "    [class_list[i] for i in Testing_Label],\n",
    "    [class_list[numpy.argmax(prediction)] for prediction in Testing_Predictions]\n",
    "))"
   ]
  },
  {
   "cell_type": "code",
   "execution_count": 53,
   "id": "c349a13d",
   "metadata": {
    "ExecuteTime": {
     "end_time": "2023-01-02T07:24:49.917423Z",
     "start_time": "2023-01-02T07:24:49.069370Z"
    }
   },
   "outputs": [],
   "source": [
    "Transformed_Model.save(\"./Models/TransferLearningModel.h5\")"
   ]
  },
  {
   "cell_type": "markdown",
   "id": "52faa84f",
   "metadata": {},
   "source": [
    "# Model Saving"
   ]
  },
  {
   "cell_type": "code",
   "execution_count": 54,
   "id": "071e3817",
   "metadata": {
    "ExecuteTime": {
     "end_time": "2023-01-02T07:24:56.491524Z",
     "start_time": "2023-01-02T07:24:56.169508Z"
    }
   },
   "outputs": [],
   "source": [
    "Transformed_Model.save(\"../Model/TransferLearningModel.h5\")"
   ]
  }
 ],
 "metadata": {
  "kernelspec": {
   "display_name": "Python 3 (ipykernel)",
   "language": "python",
   "name": "python3"
  },
  "language_info": {
   "codemirror_mode": {
    "name": "ipython",
    "version": 3
   },
   "file_extension": ".py",
   "mimetype": "text/x-python",
   "name": "python",
   "nbconvert_exporter": "python",
   "pygments_lexer": "ipython3",
   "version": "3.10.8"
  },
  "vscode": {
   "interpreter": {
    "hash": "26de051ba29f2982a8de78e945f0abaf191376122a1563185a90213a26c5da77"
   }
  }
 },
 "nbformat": 4,
 "nbformat_minor": 5
}
